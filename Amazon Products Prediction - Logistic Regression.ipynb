{
 "cells": [
  {
   "cell_type": "code",
   "execution_count": 1,
   "id": "88a03a93",
   "metadata": {},
   "outputs": [],
   "source": [
    "#Import libraries \n",
    "\n",
    "import numpy as np\n",
    "import pandas as pd\n",
    "import matplotlib.pyplot as plt\n",
    "import seaborn as sns\n",
    "\n",
    "%matplotlib inline"
   ]
  },
  {
   "cell_type": "code",
   "execution_count": 2,
   "id": "dda672c3",
   "metadata": {},
   "outputs": [],
   "source": [
    "#Putting two tables together\n",
    "\n",
    "df_products = pd.read_csv('amazon_products.csv')\n",
    "df_categories = pd.read_csv('amazon_categories.csv')\n",
    "\n",
    "df = pd.concat([df_products,df_categories], axis=1)"
   ]
  },
  {
   "cell_type": "code",
   "execution_count": 3,
   "id": "f28def2f",
   "metadata": {},
   "outputs": [
    {
     "data": {
      "text/html": [
       "<div>\n",
       "<style scoped>\n",
       "    .dataframe tbody tr th:only-of-type {\n",
       "        vertical-align: middle;\n",
       "    }\n",
       "\n",
       "    .dataframe tbody tr th {\n",
       "        vertical-align: top;\n",
       "    }\n",
       "\n",
       "    .dataframe thead th {\n",
       "        text-align: right;\n",
       "    }\n",
       "</style>\n",
       "<table border=\"1\" class=\"dataframe\">\n",
       "  <thead>\n",
       "    <tr style=\"text-align: right;\">\n",
       "      <th></th>\n",
       "      <th>asin</th>\n",
       "      <th>title</th>\n",
       "      <th>imgUrl</th>\n",
       "      <th>productURL</th>\n",
       "      <th>stars</th>\n",
       "      <th>reviews</th>\n",
       "      <th>price</th>\n",
       "      <th>listPrice</th>\n",
       "      <th>category_id</th>\n",
       "      <th>isBestSeller</th>\n",
       "      <th>boughtInLastMonth</th>\n",
       "      <th>id</th>\n",
       "      <th>category_name</th>\n",
       "    </tr>\n",
       "  </thead>\n",
       "  <tbody>\n",
       "    <tr>\n",
       "      <th>0</th>\n",
       "      <td>B014TMV5YE</td>\n",
       "      <td>Sion Softside Expandable Roller Luggage, Black...</td>\n",
       "      <td>https://m.media-amazon.com/images/I/815dLQKYIY...</td>\n",
       "      <td>https://www.amazon.com/dp/B014TMV5YE</td>\n",
       "      <td>4.5</td>\n",
       "      <td>0</td>\n",
       "      <td>139.99</td>\n",
       "      <td>0.00</td>\n",
       "      <td>104</td>\n",
       "      <td>False</td>\n",
       "      <td>2000</td>\n",
       "      <td>1.0</td>\n",
       "      <td>Beading &amp; Jewelry Making</td>\n",
       "    </tr>\n",
       "    <tr>\n",
       "      <th>1</th>\n",
       "      <td>B07GDLCQXV</td>\n",
       "      <td>Luggage Sets Expandable PC+ABS Durable Suitcas...</td>\n",
       "      <td>https://m.media-amazon.com/images/I/81bQlm7vf6...</td>\n",
       "      <td>https://www.amazon.com/dp/B07GDLCQXV</td>\n",
       "      <td>4.5</td>\n",
       "      <td>0</td>\n",
       "      <td>169.99</td>\n",
       "      <td>209.99</td>\n",
       "      <td>104</td>\n",
       "      <td>False</td>\n",
       "      <td>1000</td>\n",
       "      <td>2.0</td>\n",
       "      <td>Fabric Decorating</td>\n",
       "    </tr>\n",
       "    <tr>\n",
       "      <th>2</th>\n",
       "      <td>B07XSCCZYG</td>\n",
       "      <td>Platinum Elite Softside Expandable Checked Lug...</td>\n",
       "      <td>https://m.media-amazon.com/images/I/71EA35zvJB...</td>\n",
       "      <td>https://www.amazon.com/dp/B07XSCCZYG</td>\n",
       "      <td>4.6</td>\n",
       "      <td>0</td>\n",
       "      <td>365.49</td>\n",
       "      <td>429.99</td>\n",
       "      <td>104</td>\n",
       "      <td>False</td>\n",
       "      <td>300</td>\n",
       "      <td>3.0</td>\n",
       "      <td>Knitting &amp; Crochet Supplies</td>\n",
       "    </tr>\n",
       "    <tr>\n",
       "      <th>3</th>\n",
       "      <td>B08MVFKGJM</td>\n",
       "      <td>Freeform Hardside Expandable with Double Spinn...</td>\n",
       "      <td>https://m.media-amazon.com/images/I/91k6NYLQyI...</td>\n",
       "      <td>https://www.amazon.com/dp/B08MVFKGJM</td>\n",
       "      <td>4.6</td>\n",
       "      <td>0</td>\n",
       "      <td>291.59</td>\n",
       "      <td>354.37</td>\n",
       "      <td>104</td>\n",
       "      <td>False</td>\n",
       "      <td>400</td>\n",
       "      <td>4.0</td>\n",
       "      <td>Printmaking Supplies</td>\n",
       "    </tr>\n",
       "    <tr>\n",
       "      <th>4</th>\n",
       "      <td>B01DJLKZBA</td>\n",
       "      <td>Winfield 2 Hardside Expandable Luggage with Sp...</td>\n",
       "      <td>https://m.media-amazon.com/images/I/61NJoaZcP9...</td>\n",
       "      <td>https://www.amazon.com/dp/B01DJLKZBA</td>\n",
       "      <td>4.5</td>\n",
       "      <td>0</td>\n",
       "      <td>174.99</td>\n",
       "      <td>309.99</td>\n",
       "      <td>104</td>\n",
       "      <td>False</td>\n",
       "      <td>400</td>\n",
       "      <td>5.0</td>\n",
       "      <td>Scrapbooking &amp; Stamping Supplies</td>\n",
       "    </tr>\n",
       "  </tbody>\n",
       "</table>\n",
       "</div>"
      ],
      "text/plain": [
       "         asin                                              title  \\\n",
       "0  B014TMV5YE  Sion Softside Expandable Roller Luggage, Black...   \n",
       "1  B07GDLCQXV  Luggage Sets Expandable PC+ABS Durable Suitcas...   \n",
       "2  B07XSCCZYG  Platinum Elite Softside Expandable Checked Lug...   \n",
       "3  B08MVFKGJM  Freeform Hardside Expandable with Double Spinn...   \n",
       "4  B01DJLKZBA  Winfield 2 Hardside Expandable Luggage with Sp...   \n",
       "\n",
       "                                              imgUrl  \\\n",
       "0  https://m.media-amazon.com/images/I/815dLQKYIY...   \n",
       "1  https://m.media-amazon.com/images/I/81bQlm7vf6...   \n",
       "2  https://m.media-amazon.com/images/I/71EA35zvJB...   \n",
       "3  https://m.media-amazon.com/images/I/91k6NYLQyI...   \n",
       "4  https://m.media-amazon.com/images/I/61NJoaZcP9...   \n",
       "\n",
       "                             productURL  stars  reviews   price  listPrice  \\\n",
       "0  https://www.amazon.com/dp/B014TMV5YE    4.5        0  139.99       0.00   \n",
       "1  https://www.amazon.com/dp/B07GDLCQXV    4.5        0  169.99     209.99   \n",
       "2  https://www.amazon.com/dp/B07XSCCZYG    4.6        0  365.49     429.99   \n",
       "3  https://www.amazon.com/dp/B08MVFKGJM    4.6        0  291.59     354.37   \n",
       "4  https://www.amazon.com/dp/B01DJLKZBA    4.5        0  174.99     309.99   \n",
       "\n",
       "   category_id  isBestSeller  boughtInLastMonth   id  \\\n",
       "0          104         False               2000  1.0   \n",
       "1          104         False               1000  2.0   \n",
       "2          104         False                300  3.0   \n",
       "3          104         False                400  4.0   \n",
       "4          104         False                400  5.0   \n",
       "\n",
       "                      category_name  \n",
       "0          Beading & Jewelry Making  \n",
       "1                 Fabric Decorating  \n",
       "2       Knitting & Crochet Supplies  \n",
       "3              Printmaking Supplies  \n",
       "4  Scrapbooking & Stamping Supplies  "
      ]
     },
     "execution_count": 3,
     "metadata": {},
     "output_type": "execute_result"
    }
   ],
   "source": [
    "df.head()"
   ]
  },
  {
   "cell_type": "code",
   "execution_count": 4,
   "id": "23c831bc",
   "metadata": {},
   "outputs": [
    {
     "name": "stdout",
     "output_type": "stream",
     "text": [
      "<class 'pandas.core.frame.DataFrame'>\n",
      "Int64Index: 1426337 entries, 0 to 1426336\n",
      "Data columns (total 13 columns):\n",
      " #   Column             Non-Null Count    Dtype  \n",
      "---  ------             --------------    -----  \n",
      " 0   asin               1426337 non-null  object \n",
      " 1   title              1426336 non-null  object \n",
      " 2   imgUrl             1426337 non-null  object \n",
      " 3   productURL         1426337 non-null  object \n",
      " 4   stars              1426337 non-null  float64\n",
      " 5   reviews            1426337 non-null  int64  \n",
      " 6   price              1426337 non-null  float64\n",
      " 7   listPrice          1426337 non-null  float64\n",
      " 8   category_id        1426337 non-null  int64  \n",
      " 9   isBestSeller       1426337 non-null  bool   \n",
      " 10  boughtInLastMonth  1426337 non-null  int64  \n",
      " 11  id                 248 non-null      float64\n",
      " 12  category_name      248 non-null      object \n",
      "dtypes: bool(1), float64(4), int64(3), object(5)\n",
      "memory usage: 142.8+ MB\n"
     ]
    }
   ],
   "source": [
    "#checking data information\n",
    "\n",
    "df.info()"
   ]
  },
  {
   "cell_type": "code",
   "execution_count": 5,
   "id": "3493729e",
   "metadata": {},
   "outputs": [
    {
     "data": {
      "text/plain": [
       "asin                       0\n",
       "title                      1\n",
       "imgUrl                     0\n",
       "productURL                 0\n",
       "stars                      0\n",
       "reviews                    0\n",
       "price                      0\n",
       "listPrice                  0\n",
       "category_id                0\n",
       "isBestSeller               0\n",
       "boughtInLastMonth          0\n",
       "id                   1426089\n",
       "category_name        1426089\n",
       "dtype: int64"
      ]
     },
     "execution_count": 5,
     "metadata": {},
     "output_type": "execute_result"
    }
   ],
   "source": [
    "#checking null values\n",
    "\n",
    "df.isnull().sum()"
   ]
  },
  {
   "cell_type": "code",
   "execution_count": 6,
   "id": "5fdb178b",
   "metadata": {},
   "outputs": [
    {
     "data": {
      "text/plain": [
       "0"
      ]
     },
     "execution_count": 6,
     "metadata": {},
     "output_type": "execute_result"
    }
   ],
   "source": [
    "#checking if there's any duplicated values\n",
    "\n",
    "df.duplicated().sum()"
   ]
  },
  {
   "cell_type": "code",
   "execution_count": 7,
   "id": "a97eb8c5",
   "metadata": {},
   "outputs": [
    {
     "data": {
      "text/plain": [
       "category_name\n",
       "Abrasive & Finishing Products      149.99\n",
       "Accessories & Supplies              22.79\n",
       "Additive Manufacturing Products     18.99\n",
       "Arts & Crafts Supplies             144.79\n",
       "Arts, Crafts & Sewing Storage      112.63\n",
       "Name: price, dtype: float64"
      ]
     },
     "execution_count": 7,
     "metadata": {},
     "output_type": "execute_result"
    }
   ],
   "source": [
    "#Showing mean price by category\n",
    "\n",
    "avg_category_price = df.groupby('category_name')['price'].mean()\n",
    "avg_category_price.head(5)"
   ]
  },
  {
   "cell_type": "code",
   "execution_count": 8,
   "id": "a1d358d2",
   "metadata": {},
   "outputs": [
    {
     "data": {
      "text/plain": [
       "False    1417817\n",
       "True        8520\n",
       "Name: isBestSeller, dtype: int64"
      ]
     },
     "execution_count": 8,
     "metadata": {},
     "output_type": "execute_result"
    }
   ],
   "source": [
    "#Counting best selling products vs not best selling products\n",
    "\n",
    "df['isBestSeller'].value_counts()"
   ]
  },
  {
   "cell_type": "code",
   "execution_count": 9,
   "id": "12369344",
   "metadata": {},
   "outputs": [
    {
     "data": {
      "text/html": [
       "<div>\n",
       "<style scoped>\n",
       "    .dataframe tbody tr th:only-of-type {\n",
       "        vertical-align: middle;\n",
       "    }\n",
       "\n",
       "    .dataframe tbody tr th {\n",
       "        vertical-align: top;\n",
       "    }\n",
       "\n",
       "    .dataframe thead th {\n",
       "        text-align: right;\n",
       "    }\n",
       "</style>\n",
       "<table border=\"1\" class=\"dataframe\">\n",
       "  <thead>\n",
       "    <tr style=\"text-align: right;\">\n",
       "      <th></th>\n",
       "      <th>asin</th>\n",
       "      <th>title</th>\n",
       "      <th>imgUrl</th>\n",
       "      <th>productURL</th>\n",
       "      <th>stars</th>\n",
       "      <th>reviews</th>\n",
       "      <th>price</th>\n",
       "      <th>listPrice</th>\n",
       "      <th>category_id</th>\n",
       "      <th>isBestSeller</th>\n",
       "      <th>boughtInLastMonth</th>\n",
       "      <th>id</th>\n",
       "      <th>category_name</th>\n",
       "    </tr>\n",
       "  </thead>\n",
       "  <tbody>\n",
       "    <tr>\n",
       "      <th>924</th>\n",
       "      <td>B00W66LQFO</td>\n",
       "      <td>Men's Eversoft Cotton Stay Tucked Crew T-Shirt</td>\n",
       "      <td>https://m.media-amazon.com/images/I/513fraGQXW...</td>\n",
       "      <td>https://www.amazon.com/dp/B00W66LQFO</td>\n",
       "      <td>4.6</td>\n",
       "      <td>0</td>\n",
       "      <td>18.48</td>\n",
       "      <td>26.00</td>\n",
       "      <td>110</td>\n",
       "      <td>True</td>\n",
       "      <td>10000</td>\n",
       "      <td>NaN</td>\n",
       "      <td>NaN</td>\n",
       "    </tr>\n",
       "    <tr>\n",
       "      <th>925</th>\n",
       "      <td>B0C4RMF5PZ</td>\n",
       "      <td>Official Renaissance World Tour Merch Disco Co...</td>\n",
       "      <td>https://m.media-amazon.com/images/I/71Uxhfi5KQ...</td>\n",
       "      <td>https://www.amazon.com/dp/B0C4RMF5PZ</td>\n",
       "      <td>4.8</td>\n",
       "      <td>0</td>\n",
       "      <td>40.00</td>\n",
       "      <td>0.00</td>\n",
       "      <td>110</td>\n",
       "      <td>True</td>\n",
       "      <td>4000</td>\n",
       "      <td>NaN</td>\n",
       "      <td>NaN</td>\n",
       "    </tr>\n",
       "    <tr>\n",
       "      <th>933</th>\n",
       "      <td>B077ZMKWVM</td>\n",
       "      <td>Men's Crew T-Shirts, Multipack, Style G1100</td>\n",
       "      <td>https://m.media-amazon.com/images/I/61Zf5AAGPW...</td>\n",
       "      <td>https://www.amazon.com/dp/B077ZMKWVM</td>\n",
       "      <td>4.6</td>\n",
       "      <td>0</td>\n",
       "      <td>18.99</td>\n",
       "      <td>0.00</td>\n",
       "      <td>110</td>\n",
       "      <td>True</td>\n",
       "      <td>8000</td>\n",
       "      <td>NaN</td>\n",
       "      <td>NaN</td>\n",
       "    </tr>\n",
       "    <tr>\n",
       "      <th>938</th>\n",
       "      <td>B07PH2VWX1</td>\n",
       "      <td>Men's Coolzone Boxer Briefs, Moisture Wicking ...</td>\n",
       "      <td>https://m.media-amazon.com/images/I/81lHfvvXK0...</td>\n",
       "      <td>https://www.amazon.com/dp/B07PH2VWX1</td>\n",
       "      <td>4.6</td>\n",
       "      <td>0</td>\n",
       "      <td>19.59</td>\n",
       "      <td>24.49</td>\n",
       "      <td>110</td>\n",
       "      <td>True</td>\n",
       "      <td>5000</td>\n",
       "      <td>NaN</td>\n",
       "      <td>NaN</td>\n",
       "    </tr>\n",
       "    <tr>\n",
       "      <th>944</th>\n",
       "      <td>B01D2GRTIE</td>\n",
       "      <td>Men's Multi-Pack Mesh Ventilating Comfort Fit ...</td>\n",
       "      <td>https://m.media-amazon.com/images/I/61lxpudqRp...</td>\n",
       "      <td>https://www.amazon.com/dp/B01D2GRTIE</td>\n",
       "      <td>4.6</td>\n",
       "      <td>0</td>\n",
       "      <td>14.99</td>\n",
       "      <td>0.00</td>\n",
       "      <td>110</td>\n",
       "      <td>True</td>\n",
       "      <td>6000</td>\n",
       "      <td>NaN</td>\n",
       "      <td>NaN</td>\n",
       "    </tr>\n",
       "    <tr>\n",
       "      <th>...</th>\n",
       "      <td>...</td>\n",
       "      <td>...</td>\n",
       "      <td>...</td>\n",
       "      <td>...</td>\n",
       "      <td>...</td>\n",
       "      <td>...</td>\n",
       "      <td>...</td>\n",
       "      <td>...</td>\n",
       "      <td>...</td>\n",
       "      <td>...</td>\n",
       "      <td>...</td>\n",
       "      <td>...</td>\n",
       "      <td>...</td>\n",
       "    </tr>\n",
       "    <tr>\n",
       "      <th>1415016</th>\n",
       "      <td>B0007LCLPE</td>\n",
       "      <td>Pyle 2Way Custom Component Speaker System-6.5”...</td>\n",
       "      <td>https://m.media-amazon.com/images/I/812gPYS6xm...</td>\n",
       "      <td>https://www.amazon.com/dp/B0007LCLPE</td>\n",
       "      <td>4.0</td>\n",
       "      <td>0</td>\n",
       "      <td>44.99</td>\n",
       "      <td>47.99</td>\n",
       "      <td>26</td>\n",
       "      <td>True</td>\n",
       "      <td>0</td>\n",
       "      <td>NaN</td>\n",
       "      <td>NaN</td>\n",
       "    </tr>\n",
       "    <tr>\n",
       "      <th>1415072</th>\n",
       "      <td>B004S50ZB2</td>\n",
       "      <td>BOSS Audio Systems R1002 Riot Series Car Stere...</td>\n",
       "      <td>https://m.media-amazon.com/images/I/610Vz6PUFl...</td>\n",
       "      <td>https://www.amazon.com/dp/B004S50ZB2</td>\n",
       "      <td>4.1</td>\n",
       "      <td>0</td>\n",
       "      <td>35.41</td>\n",
       "      <td>56.00</td>\n",
       "      <td>26</td>\n",
       "      <td>True</td>\n",
       "      <td>0</td>\n",
       "      <td>NaN</td>\n",
       "      <td>NaN</td>\n",
       "    </tr>\n",
       "    <tr>\n",
       "      <th>1416949</th>\n",
       "      <td>B0BZVV2N8N</td>\n",
       "      <td>Pickleball Paddles, USAPA Approved Fiberglass ...</td>\n",
       "      <td>https://m.media-amazon.com/images/I/71WQNbP6dW...</td>\n",
       "      <td>https://www.amazon.com/dp/B0BZVV2N8N</td>\n",
       "      <td>4.8</td>\n",
       "      <td>0</td>\n",
       "      <td>35.99</td>\n",
       "      <td>0.00</td>\n",
       "      <td>198</td>\n",
       "      <td>True</td>\n",
       "      <td>300</td>\n",
       "      <td>NaN</td>\n",
       "      <td>NaN</td>\n",
       "    </tr>\n",
       "    <tr>\n",
       "      <th>1416996</th>\n",
       "      <td>B00HR1NBWE</td>\n",
       "      <td>Skechers Men's Afterburn M. Fit</td>\n",
       "      <td>https://m.media-amazon.com/images/I/81ivYs9jxt...</td>\n",
       "      <td>https://www.amazon.com/dp/B00HR1NBWE</td>\n",
       "      <td>4.4</td>\n",
       "      <td>0</td>\n",
       "      <td>40.00</td>\n",
       "      <td>74.00</td>\n",
       "      <td>198</td>\n",
       "      <td>True</td>\n",
       "      <td>200</td>\n",
       "      <td>NaN</td>\n",
       "      <td>NaN</td>\n",
       "    </tr>\n",
       "    <tr>\n",
       "      <th>1417015</th>\n",
       "      <td>B083LL43QF</td>\n",
       "      <td>FULLSOFT 3 Pack Leggings for Women Non See Thr...</td>\n",
       "      <td>https://m.media-amazon.com/images/I/71icYIXDDB...</td>\n",
       "      <td>https://www.amazon.com/dp/B083LL43QF</td>\n",
       "      <td>4.3</td>\n",
       "      <td>0</td>\n",
       "      <td>20.39</td>\n",
       "      <td>29.99</td>\n",
       "      <td>198</td>\n",
       "      <td>True</td>\n",
       "      <td>100</td>\n",
       "      <td>NaN</td>\n",
       "      <td>NaN</td>\n",
       "    </tr>\n",
       "  </tbody>\n",
       "</table>\n",
       "<p>8520 rows × 13 columns</p>\n",
       "</div>"
      ],
      "text/plain": [
       "               asin                                              title  \\\n",
       "924      B00W66LQFO     Men's Eversoft Cotton Stay Tucked Crew T-Shirt   \n",
       "925      B0C4RMF5PZ  Official Renaissance World Tour Merch Disco Co...   \n",
       "933      B077ZMKWVM        Men's Crew T-Shirts, Multipack, Style G1100   \n",
       "938      B07PH2VWX1  Men's Coolzone Boxer Briefs, Moisture Wicking ...   \n",
       "944      B01D2GRTIE  Men's Multi-Pack Mesh Ventilating Comfort Fit ...   \n",
       "...             ...                                                ...   \n",
       "1415016  B0007LCLPE  Pyle 2Way Custom Component Speaker System-6.5”...   \n",
       "1415072  B004S50ZB2  BOSS Audio Systems R1002 Riot Series Car Stere...   \n",
       "1416949  B0BZVV2N8N  Pickleball Paddles, USAPA Approved Fiberglass ...   \n",
       "1416996  B00HR1NBWE                    Skechers Men's Afterburn M. Fit   \n",
       "1417015  B083LL43QF  FULLSOFT 3 Pack Leggings for Women Non See Thr...   \n",
       "\n",
       "                                                    imgUrl  \\\n",
       "924      https://m.media-amazon.com/images/I/513fraGQXW...   \n",
       "925      https://m.media-amazon.com/images/I/71Uxhfi5KQ...   \n",
       "933      https://m.media-amazon.com/images/I/61Zf5AAGPW...   \n",
       "938      https://m.media-amazon.com/images/I/81lHfvvXK0...   \n",
       "944      https://m.media-amazon.com/images/I/61lxpudqRp...   \n",
       "...                                                    ...   \n",
       "1415016  https://m.media-amazon.com/images/I/812gPYS6xm...   \n",
       "1415072  https://m.media-amazon.com/images/I/610Vz6PUFl...   \n",
       "1416949  https://m.media-amazon.com/images/I/71WQNbP6dW...   \n",
       "1416996  https://m.media-amazon.com/images/I/81ivYs9jxt...   \n",
       "1417015  https://m.media-amazon.com/images/I/71icYIXDDB...   \n",
       "\n",
       "                                   productURL  stars  reviews  price  \\\n",
       "924      https://www.amazon.com/dp/B00W66LQFO    4.6        0  18.48   \n",
       "925      https://www.amazon.com/dp/B0C4RMF5PZ    4.8        0  40.00   \n",
       "933      https://www.amazon.com/dp/B077ZMKWVM    4.6        0  18.99   \n",
       "938      https://www.amazon.com/dp/B07PH2VWX1    4.6        0  19.59   \n",
       "944      https://www.amazon.com/dp/B01D2GRTIE    4.6        0  14.99   \n",
       "...                                       ...    ...      ...    ...   \n",
       "1415016  https://www.amazon.com/dp/B0007LCLPE    4.0        0  44.99   \n",
       "1415072  https://www.amazon.com/dp/B004S50ZB2    4.1        0  35.41   \n",
       "1416949  https://www.amazon.com/dp/B0BZVV2N8N    4.8        0  35.99   \n",
       "1416996  https://www.amazon.com/dp/B00HR1NBWE    4.4        0  40.00   \n",
       "1417015  https://www.amazon.com/dp/B083LL43QF    4.3        0  20.39   \n",
       "\n",
       "         listPrice  category_id  isBestSeller  boughtInLastMonth  id  \\\n",
       "924          26.00          110          True              10000 NaN   \n",
       "925           0.00          110          True               4000 NaN   \n",
       "933           0.00          110          True               8000 NaN   \n",
       "938          24.49          110          True               5000 NaN   \n",
       "944           0.00          110          True               6000 NaN   \n",
       "...            ...          ...           ...                ...  ..   \n",
       "1415016      47.99           26          True                  0 NaN   \n",
       "1415072      56.00           26          True                  0 NaN   \n",
       "1416949       0.00          198          True                300 NaN   \n",
       "1416996      74.00          198          True                200 NaN   \n",
       "1417015      29.99          198          True                100 NaN   \n",
       "\n",
       "        category_name  \n",
       "924               NaN  \n",
       "925               NaN  \n",
       "933               NaN  \n",
       "938               NaN  \n",
       "944               NaN  \n",
       "...               ...  \n",
       "1415016           NaN  \n",
       "1415072           NaN  \n",
       "1416949           NaN  \n",
       "1416996           NaN  \n",
       "1417015           NaN  \n",
       "\n",
       "[8520 rows x 13 columns]"
      ]
     },
     "execution_count": 9,
     "metadata": {},
     "output_type": "execute_result"
    }
   ],
   "source": [
    "#Showing best selling products\n",
    "\n",
    "best_selling = df[df['isBestSeller']]\n",
    "best_selling"
   ]
  },
  {
   "cell_type": "code",
   "execution_count": 10,
   "id": "0fa788a2",
   "metadata": {},
   "outputs": [
    {
     "data": {
      "image/png": "[encoded data removed]",
      "text/plain": [
       "<Figure size 640x480 with 1 Axes>"
      ]
     },
     "metadata": {},
     "output_type": "display_data"
    }
   ],
   "source": [
    "#Plotting counts of ratings\n",
    "\n",
    "sns.histplot(data=df,x='stars');"
   ]
  },
  {
   "cell_type": "code",
   "execution_count": 11,
   "id": "dff0d55f",
   "metadata": {},
   "outputs": [],
   "source": [
    "avg_price = df.groupby('category_name')['price'].mean().reset_index()\n",
    "avg_price.columns = ['Category', 'Average Price']"
   ]
  },
  {
   "cell_type": "code",
   "execution_count": 12,
   "id": "7c36a662",
   "metadata": {},
   "outputs": [
    {
     "data": {
      "text/plain": [
       "[Text(0.5, 1.0, 'Average Price by 10 Categories')]"
      ]
     },
     "execution_count": 12,
     "metadata": {},
     "output_type": "execute_result"
    },
    {
     "data": {
      "image/png": "[encoded data removed]",
      "text/plain": [
       "<Figure size 640x480 with 1 Axes>"
      ]
     },
     "metadata": {},
     "output_type": "display_data"
    }
   ],
   "source": [
    "#Data visualization\n",
    "\n",
    "sns.barplot(data=avg_price.head(10), x='Average Price', y='Category').set(title='Average Price by 10 Categories')"
   ]
  },
  {
   "cell_type": "code",
   "execution_count": 13,
   "id": "027bc24f",
   "metadata": {},
   "outputs": [],
   "source": [
    "avg_rate = df.groupby('category_name')['stars'].mean().reset_index()\n",
    "avg_rate.columns = ['Category', 'Average Rating']"
   ]
  },
  {
   "cell_type": "code",
   "execution_count": 14,
   "id": "84278852",
   "metadata": {},
   "outputs": [
    {
     "data": {
      "text/plain": [
       "[Text(0.5, 1.0, 'Average Rating by 10 Categories')]"
      ]
     },
     "execution_count": 14,
     "metadata": {},
     "output_type": "execute_result"
    },
    {
     "data": {
      "image/png": "[encoded data removed]",
      "text/plain": [
       "<Figure size 640x480 with 1 Axes>"
      ]
     },
     "metadata": {},
     "output_type": "display_data"
    }
   ],
   "source": [
    "#Data visualization\n",
    "\n",
    "sns.barplot(data=avg_rate.head(10), x='Average Rating', y='Category').set(title='Average Rating by 10 Categories')"
   ]
  },
  {
   "cell_type": "code",
   "execution_count": 55,
   "id": "1f83591d",
   "metadata": {},
   "outputs": [],
   "source": [
    "#Selecting predictor variables and a response variable\n",
    "\n",
    "X = df[['reviews','price']]\n",
    "y = df['isBestSeller']"
   ]
  },
  {
   "cell_type": "code",
   "execution_count": 56,
   "id": "5495c94f",
   "metadata": {},
   "outputs": [],
   "source": [
    "#Split the data into training and testing sets\n",
    "\n",
    "from sklearn.model_selection import train_test_split\n",
    "\n",
    "X_train, X_test, y_train, y_test = train_test_split(X, y, test_size = 0.3, random_state = 42)"
   ]
  },
  {
   "cell_type": "code",
   "execution_count": 57,
   "id": "9601870e",
   "metadata": {},
   "outputs": [],
   "source": [
    "#Importing metrics and logistic regression \n",
    "\n",
    "from sklearn.metrics import accuracy_score, precision_score, recall_score, f1_score\n",
    "from sklearn.metrics import confusion_matrix, classification_report\n",
    "from sklearn.linear_model import LogisticRegression\n",
    "import warnings\n",
    "warnings.filterwarnings('always')"
   ]
  },
  {
   "cell_type": "code",
   "execution_count": 58,
   "id": "c621b811",
   "metadata": {},
   "outputs": [
    {
     "data": {
      "text/plain": [
       "LogisticRegression()"
      ]
     },
     "execution_count": 58,
     "metadata": {},
     "output_type": "execute_result"
    }
   ],
   "source": [
    "#Fitting the model\n",
    "\n",
    "model = LogisticRegression()\n",
    "model.fit(X_train, y_train)"
   ]
  },
  {
   "cell_type": "code",
   "execution_count": 59,
   "id": "526e05ff",
   "metadata": {},
   "outputs": [],
   "source": [
    "#Predict the model\n",
    "\n",
    "prediction = model.predict(X_test)"
   ]
  },
  {
   "cell_type": "code",
   "execution_count": 60,
   "id": "02fb3494",
   "metadata": {},
   "outputs": [
    {
     "name": "stdout",
     "output_type": "stream",
     "text": [
      "0.9939051465055083\n"
     ]
    }
   ],
   "source": [
    "#Evaluate the model \n",
    "\n",
    "print(accuracy_score(y_test,prediction))"
   ]
  },
  {
   "cell_type": "code",
   "execution_count": 61,
   "id": "0586d2f2",
   "metadata": {},
   "outputs": [
    {
     "name": "stdout",
     "output_type": "stream",
     "text": [
      "Confusion Matrix: \n",
      " [[425278     35]\n",
      " [  2573     16]]\n"
     ]
    }
   ],
   "source": [
    "print('Confusion Matrix: \\n', confusion_matrix(y_test,prediction))"
   ]
  },
  {
   "cell_type": "code",
   "execution_count": 62,
   "id": "a5a7bf2d",
   "metadata": {},
   "outputs": [
    {
     "name": "stdout",
     "output_type": "stream",
     "text": [
      "              precision    recall  f1-score   support\n",
      "\n",
      "       False       0.99      1.00      1.00    425313\n",
      "        True       0.31      0.01      0.01      2589\n",
      "\n",
      "    accuracy                           0.99    427902\n",
      "   macro avg       0.65      0.50      0.50    427902\n",
      "weighted avg       0.99      0.99      0.99    427902\n",
      "\n"
     ]
    }
   ],
   "source": [
    "print(classification_report(y_test,prediction))"
   ]
  },
  {
   "cell_type": "code",
   "execution_count": 71,
   "id": "f99860ac",
   "metadata": {},
   "outputs": [
    {
     "name": "stdout",
     "output_type": "stream",
     "text": [
      "Prediction: [False]\n"
     ]
    }
   ],
   "source": [
    "new_data = pd.DataFrame({'reviews': [0], 'price': [20]})\n",
    "y_pred_new = model.predict(new_data)\n",
    "print(f'Prediction: {y_pred_new}')"
   ]
  }
 ],
 "metadata": {
  "kernelspec": {
   "display_name": "Python 3 (ipykernel)",
   "language": "python",
   "name": "python3"
  },
  "language_info": {
   "codemirror_mode": {
    "name": "ipython",
    "version": 3
   },
   "file_extension": ".py",
   "mimetype": "text/x-python",
   "name": "python",
   "nbconvert_exporter": "python",
   "pygments_lexer": "ipython3",
   "version": "3.9.13"
  }
 },
 "nbformat": 4,
 "nbformat_minor": 5
}
